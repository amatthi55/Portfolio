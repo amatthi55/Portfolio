{
 "cells": [
  {
   "cell_type": "markdown",
   "metadata": {},
   "source": [
    "### Explore Data Set\n",
    "This data set is provided by the City of Los Angeles and it contains data on all 911 calls to the LAPD in 2015.\n"
   ]
  },
  {
   "cell_type": "code",
   "execution_count": 19,
   "metadata": {
    "collapsed": true
   },
   "outputs": [],
   "source": [
    "import pandas as pd\n",
    "import numpy as np\n",
    "import matplotlib.pyplot as plt\n",
    "from datetime import datetime"
   ]
  },
  {
   "cell_type": "code",
   "execution_count": 20,
   "metadata": {
    "collapsed": true
   },
   "outputs": [],
   "source": [
    "Calls_2015_DB = pd.read_csv(\"LAPD_Calls_for_Service_2015.csv\")"
   ]
  },
  {
   "cell_type": "code",
   "execution_count": 21,
   "metadata": {},
   "outputs": [
    {
     "data": {
      "text/html": [
       "<div>\n",
       "<style>\n",
       "    .dataframe thead tr:only-child th {\n",
       "        text-align: right;\n",
       "    }\n",
       "\n",
       "    .dataframe thead th {\n",
       "        text-align: left;\n",
       "    }\n",
       "\n",
       "    .dataframe tbody tr th {\n",
       "        vertical-align: top;\n",
       "    }\n",
       "</style>\n",
       "<table border=\"1\" class=\"dataframe\">\n",
       "  <thead>\n",
       "    <tr style=\"text-align: right;\">\n",
       "      <th></th>\n",
       "      <th>Incident Number</th>\n",
       "      <th>Reporting District</th>\n",
       "      <th>Area Occurred</th>\n",
       "      <th>Dispatch Date</th>\n",
       "      <th>Dispatch Time</th>\n",
       "      <th>Call Type Code</th>\n",
       "      <th>Call Type Description</th>\n",
       "    </tr>\n",
       "  </thead>\n",
       "  <tbody>\n",
       "    <tr>\n",
       "      <th>0</th>\n",
       "      <td>151229000818</td>\n",
       "      <td>2083</td>\n",
       "      <td>Olympic</td>\n",
       "      <td>12/29/2015</td>\n",
       "      <td>07:24:24</td>\n",
       "      <td>415M</td>\n",
       "      <td>MAN</td>\n",
       "    </tr>\n",
       "    <tr>\n",
       "      <th>1</th>\n",
       "      <td>151220000848</td>\n",
       "      <td>1365</td>\n",
       "      <td>Newton</td>\n",
       "      <td>12/20/2015</td>\n",
       "      <td>06:10:55</td>\n",
       "      <td>507O</td>\n",
       "      <td>OTHER</td>\n",
       "    </tr>\n",
       "    <tr>\n",
       "      <th>2</th>\n",
       "      <td>151220000748</td>\n",
       "      <td>1283</td>\n",
       "      <td>77th Street</td>\n",
       "      <td>12/20/2015</td>\n",
       "      <td>04:11:53</td>\n",
       "      <td>918F</td>\n",
       "      <td>FEM</td>\n",
       "    </tr>\n",
       "    <tr>\n",
       "      <th>3</th>\n",
       "      <td>151219004185</td>\n",
       "      <td>941</td>\n",
       "      <td>Van Nuys</td>\n",
       "      <td>12/19/2015</td>\n",
       "      <td>22:29:22</td>\n",
       "      <td>507R</td>\n",
       "      <td>RADIO</td>\n",
       "    </tr>\n",
       "    <tr>\n",
       "      <th>4</th>\n",
       "      <td>151219001308</td>\n",
       "      <td>2126</td>\n",
       "      <td>Topanga</td>\n",
       "      <td>12/19/2015</td>\n",
       "      <td>09:47:28</td>\n",
       "      <td>242SN</td>\n",
       "      <td>SUSP NOW</td>\n",
       "    </tr>\n",
       "  </tbody>\n",
       "</table>\n",
       "</div>"
      ],
      "text/plain": [
       "   Incident Number  Reporting District Area Occurred Dispatch Date  \\\n",
       "0     151229000818                2083       Olympic    12/29/2015   \n",
       "1     151220000848                1365        Newton    12/20/2015   \n",
       "2     151220000748                1283   77th Street    12/20/2015   \n",
       "3     151219004185                 941      Van Nuys    12/19/2015   \n",
       "4     151219001308                2126       Topanga    12/19/2015   \n",
       "\n",
       "  Dispatch Time Call Type Code Call Type Description  \n",
       "0      07:24:24           415M                   MAN  \n",
       "1      06:10:55           507O                 OTHER  \n",
       "2      04:11:53           918F                   FEM  \n",
       "3      22:29:22           507R                 RADIO  \n",
       "4      09:47:28          242SN              SUSP NOW  "
      ]
     },
     "execution_count": 21,
     "metadata": {},
     "output_type": "execute_result"
    }
   ],
   "source": [
    "Calls_2015_DB.head()"
   ]
  },
  {
   "cell_type": "code",
   "execution_count": 22,
   "metadata": {},
   "outputs": [
    {
     "name": "stdout",
     "output_type": "stream",
     "text": [
      "Incident Number          961870\n",
      "Reporting District       961870\n",
      "Area Occurred            961870\n",
      "Dispatch Date            961870\n",
      "Dispatch Time            961870\n",
      "Call Type Code           961870\n",
      "Call Type Description    961870\n",
      "dtype: int64\n"
     ]
    },
    {
     "data": {
      "text/plain": [
       "961870"
      ]
     },
     "execution_count": 22,
     "metadata": {},
     "output_type": "execute_result"
    }
   ],
   "source": [
    "#Checking for NaN values. Data set has no NaN values.\n",
    "\n",
    "print(Calls_2015_DB.count())\n",
    "len(Calls_2015_DB['Incident Number'])"
   ]
  },
  {
   "cell_type": "code",
   "execution_count": 23,
   "metadata": {},
   "outputs": [
    {
     "data": {
      "text/plain": [
       "Incident Number           int64\n",
       "Reporting District        int64\n",
       "Area Occurred            object\n",
       "Dispatch Date            object\n",
       "Dispatch Time            object\n",
       "Call Type Code           object\n",
       "Call Type Description    object\n",
       "dtype: object"
      ]
     },
     "execution_count": 23,
     "metadata": {},
     "output_type": "execute_result"
    }
   ],
   "source": [
    "Calls_2015_DB.dtypes"
   ]
  },
  {
   "cell_type": "code",
   "execution_count": 24,
   "metadata": {},
   "outputs": [
    {
     "name": "stdout",
     "output_type": "stream",
     "text": [
      "<class 'str'>\n"
     ]
    },
    {
     "data": {
      "text/plain": [
       "str"
      ]
     },
     "execution_count": 24,
     "metadata": {},
     "output_type": "execute_result"
    }
   ],
   "source": [
    "print(type(Calls_2015_DB['Dispatch Date'][0]))\n",
    "type(Calls_2015_DB['Dispatch Time'][0])"
   ]
  },
  {
   "cell_type": "code",
   "execution_count": 25,
   "metadata": {
    "collapsed": true
   },
   "outputs": [],
   "source": [
    "#Converting Dispatch Time and Dispatch Date to Datetime dtype\n",
    "#time = []\n",
    "#for time in Calls_2015_DB['Dispatch Time']:\n",
    "   # time.append(datetime.strptime(time, '%H:%M:%S').time())\n",
    "    \n",
    "#Calls_2015_DB['Dispatch Time'] = time\n",
    "\n",
    "Calls_2015_DB['Dispatch Time'] = pd.to_datetime(Calls_2015_DB['Dispatch Time'], format = \"%H:%M:%S\")\n",
    "Calls_2015_DB['Dispatch Date'] = pd.to_datetime(Calls_2015_DB['Dispatch Date'], format = \"%m/%d/%Y\")\n"
   ]
  },
  {
   "cell_type": "code",
   "execution_count": 26,
   "metadata": {
    "collapsed": true
   },
   "outputs": [],
   "source": [
    "Calls_2015_DB[[\"Call Type Description\", 'Incident Number']].groupby(['Call Type Description']).count().to_csv('crimes_types.csv')"
   ]
  },
  {
   "cell_type": "code",
   "execution_count": 27,
   "metadata": {
    "collapsed": true
   },
   "outputs": [],
   "source": [
    "#I selected 9 types of crimes that were common and dangerous for police officers.\n",
    "\n",
    "urgent_crimes = ['DOM VIOL','MAN ASSLTG WMN','SHOTS FIRED J/O','415 GROUP GANG ACT','MAN W/KNIVES','MAN W/GUN','AMB SHOTS FIRED','VIOLENT MALE','GTA J/O']\n",
    "\n",
    "#Subset data set to be just the dangerous crimes\n",
    "\n",
    "Urg_Calls_15_DB = Calls_2015_DB.loc[Calls_2015_DB[\"Call Type Description\"].isin(urgent_crimes), :]"
   ]
  },
  {
   "cell_type": "code",
   "execution_count": 28,
   "metadata": {
    "collapsed": true
   },
   "outputs": [],
   "source": [
    "crimes_by_date = Urg_Calls_15_DB[[\"Dispatch Date\",\"Incident Number\"]].groupby(\"Dispatch Date\").count()\n"
   ]
  },
  {
   "cell_type": "code",
   "execution_count": 29,
   "metadata": {},
   "outputs": [
    {
     "data": {
      "image/png": "[encoded data removed]",
      "text/plain": [
       "<matplotlib.figure.Figure at 0x12993a358>"
      ]
     },
     "metadata": {},
     "output_type": "display_data"
    }
   ],
   "source": [
    "plt.plot(crimes_by_date)\n",
    "plt.show()"
   ]
  },
  {
   "cell_type": "code",
   "execution_count": 30,
   "metadata": {},
   "outputs": [
    {
     "data": {
      "image/png": "[encoded data removed]",
      "text/plain": [
       "<matplotlib.figure.Figure at 0x115278908>"
      ]
     },
     "metadata": {},
     "output_type": "display_data"
    }
   ],
   "source": [
    "#Zooming in on January\n",
    "plt.plot(crimes_by_date.loc[crimes_by_date.index <'2015-02-01',:])\n",
    "plt.show()\n"
   ]
  },
  {
   "cell_type": "code",
   "execution_count": 31,
   "metadata": {},
   "outputs": [
    {
     "data": {
      "text/plain": [
       "4"
      ]
     },
     "execution_count": 31,
     "metadata": {},
     "output_type": "execute_result"
    }
   ],
   "source": [
    "#I will start my analysis with the day after New Years. Weekday 4 means Friday\n",
    "\n",
    "crimes_by_date.index[1].weekday()\n"
   ]
  },
  {
   "cell_type": "code",
   "execution_count": 32,
   "metadata": {
    "collapsed": true
   },
   "outputs": [],
   "source": [
    "crimes_by_date.loc[crimes_by_date.index <'2015-02-01',:].to_csv('January_Calls.csv')"
   ]
  },
  {
   "cell_type": "code",
   "execution_count": 33,
   "metadata": {
    "collapsed": true
   },
   "outputs": [],
   "source": [
    "#I'll also analyze the month of August because it has no holidays.\n",
    "\n",
    "crimes_by_date.loc[(crimes_by_date.index >='2015-08-01') & (crimes_by_date.index <'2015-08-31') ,:].to_csv('August_Calls.csv')"
   ]
  }
 ],
 "metadata": {
  "kernelspec": {
   "display_name": "Python 3",
   "language": "python",
   "name": "python3"
  },
  "language_info": {
   "codemirror_mode": {
    "name": "ipython",
    "version": 3
   },
   "file_extension": ".py",
   "mimetype": "text/x-python",
   "name": "python",
   "nbconvert_exporter": "python",
   "pygments_lexer": "ipython3",
   "version": "3.6.3"
  }
 },
 "nbformat": 4,
 "nbformat_minor": 2
}
