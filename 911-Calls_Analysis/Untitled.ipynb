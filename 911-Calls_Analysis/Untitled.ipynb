{
 "cells": [
  {
   "cell_type": "code",
   "execution_count": 16,
   "metadata": {
    "collapsed": true
   },
   "outputs": [],
   "source": [
    "import pandas as pd\n",
    "import numpy as np\n",
    "calls_DB = pd.read_csv(\"LAPD_Calls_for_Service_2015.csv\")"
   ]
  },
  {
   "cell_type": "code",
   "execution_count": 2,
   "metadata": {},
   "outputs": [
    {
     "data": {
      "text/plain": [
       "Incident Number           int64\n",
       "Reporting District        int64\n",
       "Area Occurred            object\n",
       "Dispatch Date            object\n",
       "Dispatch Time            object\n",
       "Call Type Code           object\n",
       "Call Type Description    object\n",
       "dtype: object"
      ]
     },
     "execution_count": 2,
     "metadata": {},
     "output_type": "execute_result"
    }
   ],
   "source": [
    "calls_DB.dtypes"
   ]
  },
  {
   "cell_type": "code",
   "execution_count": 17,
   "metadata": {},
   "outputs": [],
   "source": [
    "calls_DB['Dispatch Date'] = pd.to_datetime(calls_DB['Dispatch Date'], format = \"%m/%d/%Y\")"
   ]
  },
  {
   "cell_type": "code",
   "execution_count": 18,
   "metadata": {},
   "outputs": [],
   "source": [
    "import matplotlib.pyplot as plt\n",
    "grouped_calls = calls_DB[['Dispatch Date','Incident Number']].groupby(['Dispatch Date']).count()\n"
   ]
  },
  {
   "cell_type": "code",
   "execution_count": 26,
   "metadata": {},
   "outputs": [
    {
     "data": {
      "image/png": "[encoded data removed]",
      "text/plain": [
       "<matplotlib.figure.Figure at 0x108659390>"
      ]
     },
     "metadata": {},
     "output_type": "display_data"
    }
   ],
   "source": [
    "x =['Tu','Wed','Thu','F','S','Su', 'M','Tu1','Wed1','Thu1','F1','S1','Su1', 'M1','Tu2','Wed2','Thu2','F2','S2','Su2', 'M2','Tu3','Wed3','Thu3','F3','S3','Su3', 'M3','Tu4', 'Wed4']\n",
    "\n",
    "plt.scatter(np.arange(1,61),grouped_calls.loc[grouped_calls.index < '03/02/2015', :])\n",
    "plt.show()"
   ]
  },
  {
   "cell_type": "code",
   "execution_count": null,
   "metadata": {
    "collapsed": true
   },
   "outputs": [],
   "source": []
  }
 ],
 "metadata": {
  "kernelspec": {
   "display_name": "Python 3",
   "language": "python",
   "name": "python3"
  },
  "language_info": {
   "codemirror_mode": {
    "name": "ipython",
    "version": 3
   },
   "file_extension": ".py",
   "mimetype": "text/x-python",
   "name": "python",
   "nbconvert_exporter": "python",
   "pygments_lexer": "ipython3",
   "version": "3.6.3"
  }
 },
 "nbformat": 4,
 "nbformat_minor": 2
}
