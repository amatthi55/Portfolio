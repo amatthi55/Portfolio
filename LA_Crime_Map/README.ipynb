{
 "cells": [
  {
   "cell_type": "markdown",
   "metadata": {},
   "source": [
    "# K-means Clustering Analysis of LA Liquor Stores and Assault Crimes"
   ]
  },
  {
   "cell_type": "markdown",
   "metadata": {},
   "source": [
    "I decided to do this analysis mainly because I wanted to become more familiar with python's K-means Clustering tools. The idea for this project came from Bill Chambers's [analysis](http://billchambers.me/projects/2015/03/31/kmeans-clustering-sf-crime-data.html) on the relationship between liquor stores and assault in San Francsico. \n",
    "\n",
    "In this project I plot the geographic coordinates of liquor stores in Los Angeles and then use K-means Clustering to plot centroids of the store locations. I then repeat these steps except I use the coordinates of assualt crimes in Los Angeles instead coordinates of liquor stores. Finally, I compare the locations of the liquor store and assault centroids to see how near they are. "
   ]
  },
  {
   "cell_type": "markdown",
   "metadata": {},
   "source": [
    "### Data Sources\n",
    "The addresses of the liquor stores came a data tset posted on the [website](https://www.abc.ca.gov/datport/DataExport.html) of the Caliornia Department of Alocholic Beverage Control. To find the latitude and longiutde of the stores, the addresses were fed into google's [geocode api](https://developers.google.com/maps/documentation/geocoding/start).\n",
    "\n",
    "The assault coordinates were taken from the City of Los Angeles [crime data set](https://data.lacity.org/A-Safe-City/Crime-Data-from-2010-to-Present/y8tr-7khq). This data set contained the latitude and longitude of all assault crimes within the last year. The exact location of the crimes were not given for privacy reasons but the data set does provide coordinates that reflect the nearest 100 block. For example, a crime that actually occured at 241 W Adams Blvd would be given a location of 200 W Adams Blvd in the data set."
   ]
  },
  {
   "cell_type": "markdown",
   "metadata": {},
   "source": [
    "### Data Munging\n"
   ]
  },
  {
   "cell_type": "markdown",
   "metadata": {},
   "source": [
    "I imported the data set from California Department of ABC and then subsetted the data so that it included only Los Angeles stores and only stores with type 20 or 21 licenses. Type 20 and 21 licenses were chosen because these tends to belong to liquor stores.  "
   ]
  },
  {
   "cell_type": "code",
   "execution_count": null,
   "metadata": {
    "collapsed": true
   },
   "outputs": [],
   "source": [
    "store_locs = pd.read_csv(\"m_tape460.csv\")\n",
    "store_locs = store_locs.loc[store_locs['Premise City'] == \"LOS ANGELES\",:]\n",
    "store_locs = store_locs.loc[(store_locs[\"License Type\"] == 20) | (store_locs[\"License Type\"] == 21) , :]"
   ]
  },
  {
   "cell_type": "markdown",
   "metadata": {},
   "source": [
    "I created a list called 'addresses' with all of the addresses from subsetted data set and iterated through 'addresses', hitting the geocode API with each address."
   ]
  },
  {
   "cell_type": "code",
   "execution_count": null,
   "metadata": {
    "collapsed": true
   },
   "outputs": [],
   "source": [
    "for address in addresses:\n",
    "    try:\n",
    "        r = requests.get('https://maps.googleapis.com/maps/api/geocode/json?address={},+Los+Angeles,+CA&key={}'.format(address, API_KEY))\n",
    "        lat_long.append(r.json()['results'][0]['geometry']['location'])\n",
    "        \n",
    "    except IndexError:\n",
    "        print(\"IndexError!\")"
   ]
  },
  {
   "cell_type": "markdown",
   "metadata": {},
   "source": [
    "I then turned the latitude and longitude data into a dataframe called 'store_locations' and removed the latitudes and longitudes that were far outside of Los Angeles."
   ]
  },
  {
   "cell_type": "code",
   "execution_count": null,
   "metadata": {
    "collapsed": true
   },
   "outputs": [],
   "source": [
    "store_locations = pd.DataFrame({\"Latitude\": lat, \"Longitude\": lng})\n",
    "\n",
    "store_locations.loc[store_locations[\"Longitude\"] > -118, :]\n",
    "store_locations = store_locations.drop([637,1158,1573])"
   ]
  },
  {
   "cell_type": "markdown",
   "metadata": {},
   "source": [
    "The data munging process for the assault coordinates was much easier.\n",
    "\n",
    "I first imported the City of LA crime data set."
   ]
  },
  {
   "cell_type": "code",
   "execution_count": null,
   "metadata": {
    "collapsed": true
   },
   "outputs": [],
   "source": [
    "crime_df = pd.read_csv(\"Crime_Data_from_2010_to_Present.csv\")"
   ]
  },
  {
   "cell_type": "markdown",
   "metadata": {},
   "source": [
    "The next major steps were to reduce the data set to assault crimes and to reduce the data set to crimes that had occured within the last year."
   ]
  },
  {
   "cell_type": "code",
   "execution_count": null,
   "metadata": {
    "collapsed": true
   },
   "outputs": [],
   "source": [
    "crime_df = crime_df.loc[crime_df[\"Crime Code Description\"] == \"ASSAULT WITH DEADLY WEAPON, AGGRAVATED ASSAULT\", :]\n",
    "\n",
    "crime_df = crime_df.loc[crime_df[\"Dates\"] > \"2017-05-01\", :]"
   ]
  },
  {
   "cell_type": "markdown",
   "metadata": {},
   "source": [
    "Next I converted the latitude and longitude values from string to floats and stored them in a latitude list  and alongitude lists. I noticed that the geographic area of Los Angeles was larger in this dataset than in the liquor store dataset. To account for this difference I shrunk the crime locations data set so that it covered the same area as the liquor store data."
   ]
  },
  {
   "cell_type": "code",
   "execution_count": null,
   "metadata": {
    "collapsed": true
   },
   "outputs": [],
   "source": [
    "location = pd.DataFrame({\"Lati\": Lati, \"Long\": Long})\n",
    "location = location.loc[location[\"Lati\"] > 33.8, :]\n",
    "location = location.loc[location[\"Lati\"] < 34.15, :]\n",
    "location = location.loc[location[\"Long\"] < -118.15, :]"
   ]
  },
  {
   "cell_type": "markdown",
   "metadata": {},
   "source": [
    "### Graphs of Location Data"
   ]
  },
  {
   "cell_type": "markdown",
   "metadata": {},
   "source": [
    "Liquor stores in Los Angeles:"
   ]
  },
  {
   "cell_type": "markdown",
   "metadata": {},
   "source": [
    "![](Graphs/LA_Liq_Locs.png)"
   ]
  },
  {
   "cell_type": "markdown",
   "metadata": {},
   "source": [
    "Assault locations in Los Angeles:"
   ]
  },
  {
   "cell_type": "markdown",
   "metadata": {},
   "source": [
    "![](Graphs/LA_Assault_Locs.png)"
   ]
  },
  {
   "cell_type": "markdown",
   "metadata": {},
   "source": [
    "### K-means Centroids\n",
    "\n",
    "To do the K-means clustering analysis, I used the KMeans class from the sklearn library.\n",
    "\n"
   ]
  },
  {
   "cell_type": "code",
   "execution_count": 1,
   "metadata": {
    "collapsed": true
   },
   "outputs": [],
   "source": [
    "from sklearn.cluster import KMeans"
   ]
  },
  {
   "cell_type": "markdown",
   "metadata": {},
   "source": [
    "One of the first steps when using K-means is to choose how many centroids you want the algorithm to create.\n",
    "\n",
    "In this project I use the elbow method to get an idea of the appropriate number of centroids to use. The basic idea is you create a graph with number of centroids in the x-axis and on the y-axis you have a value that captures how far awawy points are from their centroids. For that distance from centroid value, I calculated the sum of squares error for each cluster and added them together.\n",
    "\n",
    "The area of the graph that resembles an elbow is a good guess for the number of centroid you should use."
   ]
  },
  {
   "cell_type": "markdown",
   "metadata": {},
   "source": [
    "![](Graphs/Elbow.png)"
   ]
  },
  {
   "cell_type": "markdown",
   "metadata": {},
   "source": [
    "Looking at the graph, I would say 8 is an appropriate number of centriods to use. \n",
    "\n",
    "First, I generate the centriods for the liquor store coordinates."
   ]
  },
  {
   "cell_type": "code",
   "execution_count": null,
   "metadata": {
    "collapsed": true
   },
   "outputs": [],
   "source": [
    "#Convert the Lat/Long data into a format that the .fit method can use\n",
    "X = np.array([list(a) for a in zip(store_locations[\"Longitude\"],store_locations[\"Latitude\"] )])\n",
    "\n",
    "#Run the K-means cluster analysis\n",
    "kmeans = KMeans(n_clusters= 8, random_state=0).fit(X)\n",
    "\n",
    "#Create a list for for x and y coordinates of the centriods and append lists with data\n",
    "cluster_x = []\n",
    "cluster_y = []\n",
    "\n",
    "for element in kmeans.cluster_centers_:\n",
    "    cluster_x.append(element[0])\n",
    "    cluster_y.append(element[1])\n",
    "    \n",
    "#Create a dataframe of the centriod locations for graphing    \n",
    "centroid_locs = pd.DataFrame({\"x_dim\":cluster_x, \"y_dim\":cluster_y})"
   ]
  },
  {
   "cell_type": "markdown",
   "metadata": {},
   "source": [
    "Here is a graph of the centriod locations over the liquor store locations."
   ]
  },
  {
   "cell_type": "markdown",
   "metadata": {},
   "source": [
    "![](Graphs/Liq_Cluster.png)"
   ]
  },
  {
   "cell_type": "markdown",
   "metadata": {},
   "source": [
    "Now I repeat the above K-means clustering code using the assault data.\n",
    "\n",
    "Here is the graph of assault centriods in Los Angeles."
   ]
  },
  {
   "cell_type": "markdown",
   "metadata": {},
   "source": [
    "![](Graphs/Assault_Cluster.png)"
   ]
  },
  {
   "cell_type": "markdown",
   "metadata": {},
   "source": [
    "Here is a comparison of the assault clusters and the liquor store clusters. The assualt clusters are red."
   ]
  },
  {
   "cell_type": "markdown",
   "metadata": {},
   "source": [
    "![](Graphs/Assault_Liq_Cluster.png)"
   ]
  },
  {
   "cell_type": "markdown",
   "metadata": {},
   "source": [
    "## Observations\n",
    "\n",
    "There is some evidence of a relationship between clusters of liquor stores and clusters of assaults in Los Angeles. The clusters in the north central part of the city and the north east part of the city cover the same area. Also, that empty patch centered at (33.4, -118.375), the Beverly Hills area, has no centriods in it. At the same time, many of the crime centriods are not near the store centroids. I would say there may be a connection between liquor store and assault crime location but there a lot more analysis to do. For example, it would be interesting to sea how clusters of assaults compare with clusters of population in the city. If it turned out assualt centroids were closer to liquor store centriods than population centriods, that would indicate that liquor store density is more predictive of crime density than population densisty is."
   ]
  }
 ],
 "metadata": {
  "kernelspec": {
   "display_name": "Python 3",
   "language": "python",
   "name": "python3"
  },
  "language_info": {
   "codemirror_mode": {
    "name": "ipython",
    "version": 3
   },
   "file_extension": ".py",
   "mimetype": "text/x-python",
   "name": "python",
   "nbconvert_exporter": "python",
   "pygments_lexer": "ipython3",
   "version": "3.6.3"
  }
 },
 "nbformat": 4,
 "nbformat_minor": 2
}
